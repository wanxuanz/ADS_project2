{
 "cells": [
  {
   "cell_type": "code",
   "execution_count": 20,
   "metadata": {},
   "outputs": [],
   "source": [
    "import pandas as pd\n",
    "import numpy as np\n",
    "import matplotlib.pyplot as plt\n",
    "import folium\n",
    "import warnings\n",
    "warnings.filterwarnings(\"ignore\")\n",
    "import geopandas as gpd\n",
    "import seaborn as sns\n",
    "import copy"
   ]
  },
  {
   "cell_type": "code",
   "execution_count": 25,
   "metadata": {},
   "outputs": [],
   "source": [
    "#please input the market data location in your computer\n",
    "df = pd.read_excel(\"/Users/zhangming/energy-market-and-battery-optimization-group-25/data/market_data.xlsx\")"
   ]
  },
  {
   "cell_type": "code",
   "execution_count": null,
   "metadata": {},
   "outputs": [],
   "source": []
  },
  {
   "cell_type": "code",
   "execution_count": 26,
   "metadata": {},
   "outputs": [],
   "source": [
    "## preprocessing to get date into the correct data type\n",
    "df['Time (UTC+10)'] = pd.to_datetime(df['Time (UTC+10)'])\n",
    "df = df[[\"Time (UTC+10)\",\"Regions VIC Trading Price ($/MWh)\"]]\n",
    "\n"
   ]
  },
  {
   "cell_type": "code",
   "execution_count": 27,
   "metadata": {},
   "outputs": [],
   "source": [
    "## change time to only hours to see distribution based on groupby\n",
    "\n",
    "##a = pd.to_datetime(a)\n",
    "##a = df['Time (UTC+10)'].dt.strftime('%Y-%m-%d')\n",
    "## change time to only hours to see distribution based on groupby\n",
    "##b = (df['Time (UTC+10)'] - a).dt.total_seconds()//3600\n",
    "##df['Time (UTC+10)'] = b\n",
    "##df2 = df.groupby('Time (UTC+10)')['Regions VIC Trading Price ($/MWh)'].mean().reset_index()\n",
    "##df2\n"
   ]
  },
  {
   "cell_type": "code",
   "execution_count": 28,
   "metadata": {},
   "outputs": [],
   "source": [
    "## spliting dataset into 3 categories \n",
    "df_train = df.loc[(df[\"Time (UTC+10)\"] < \"2021-01-01 00:00:00\" )]\n",
    "df_cross = df.loc[(df[\"Time (UTC+10)\"] >= \"2021-01-01 00:00:00\" )& (df[\"Time (UTC+10)\"] < \"2021-07-01 00:00:00\" )]\n",
    "df_test = df.loc[(df[\"Time (UTC+10)\"] >= \"2021-07-01 00:00:00\" )]\n"
   ]
  },
  {
   "cell_type": "code",
   "execution_count": 29,
   "metadata": {},
   "outputs": [],
   "source": [
    "## convert into numpy array for the algorithm input\n",
    "df_train = df_train[\"Regions VIC Trading Price ($/MWh)\"].to_numpy()\n",
    "df_cross = df_cross[\"Regions VIC Trading Price ($/MWh)\"].to_numpy()\n",
    "df_test = df_test[\"Regions VIC Trading Price ($/MWh)\"].to_numpy()\n",
    "df_total = df[\"Regions VIC Trading Price ($/MWh)\"].to_numpy()"
   ]
  },
  {
   "cell_type": "code",
   "execution_count": null,
   "metadata": {},
   "outputs": [],
   "source": []
  },
  {
   "cell_type": "code",
   "execution_count": null,
   "metadata": {},
   "outputs": [],
   "source": []
  },
  {
   "cell_type": "code",
   "execution_count": 30,
   "metadata": {},
   "outputs": [],
   "source": [
    "## helper functions \n",
    "## df is the price list, index is the index of df, n is the length of the subsection of the df\n",
    "## this solution works better if there are  multiple local min or max within the time frame\n",
    "def compute_optimal_buyout(df, index, n):\n",
    "    ## buyout refers to the dict which will be modified in the process as an output\n",
    "    df_segment = df[index: index+n]\n",
    "    buyout = {}\n",
    "    ## contrust dictionary\n",
    "    for i in range(0,len(df_segment)):\n",
    "        buyout[i] = [df_segment[i],0] \n",
    "\n",
    "    ## sort dictionary\n",
    "    temp = copy.deepcopy(buyout)\n",
    "    sorted_buyout = {}\n",
    "    sorted_keys = sorted(buyout, key=buyout.get)\n",
    "    for i in sorted_keys:\n",
    "        sorted_buyout[i] = temp[i]\n",
    "    constraint = [644.4] * n\n",
    "    ## now find profitable trade deals, and lastly apply contraint\n",
    "    for i in sorted_buyout:\n",
    "        remaining = 150\n",
    "        if sorted_buyout[i][0] * 1.33 > max(df_segment):\n",
    "            break\n",
    "        ## for each min price, if you see a profitable price, do something\n",
    "        for j in range(i, n):\n",
    "            if remaining <= 0:\n",
    "                break\n",
    "            if (sorted_buyout[i][0] * 1.33 < sorted_buyout[j][0] and sorted_buyout[i][0] +20 < sorted_buyout[j][0] and sorted_buyout[i][0] >= 0 and sorted_buyout[i][1] <= 0) or \\\n",
    "                (sorted_buyout[i][0] < 0 and sorted_buyout[i][0] / 1.5 < sorted_buyout[j][0] and sorted_buyout[i][1] <= 0):\n",
    "                index = j\n",
    "                temp = j\n",
    "                ## check if near solution has a immediate better solution from the next 2 time, and repeat if there are\n",
    "                while(index< n-2):\n",
    "                    \n",
    "                    if max(sorted_buyout[index+1][0],sorted_buyout[index+2][0]) > sorted_buyout[index][0]:\n",
    "                        if  max(sorted_buyout[index+1][0],sorted_buyout[index+2][0]) == sorted_buyout[index+1][0]:\n",
    "                            temp = index + 1\n",
    "                        elif  max(sorted_buyout[index+1][0],sorted_buyout[index+2][0]) == sorted_buyout[index+2][0]:\n",
    "                            temp = index + 2\n",
    "                        index = index + 2\n",
    "                    else:\n",
    "                        break\n",
    "                ## index is time where we sell at the optimal price and now commence buyout and record it in buyout dict\n",
    "                index = temp\n",
    "\n",
    "                \n",
    "                remaining_dispatch = 135 - sorted_buyout[index][1]\n",
    "                \n",
    "                ## remain is the max amount you can buy from the buy point\n",
    "                ## remain dispatch is the max amount you can sell from the sell point\n",
    "                ## hardcap is the max amount you can buy due to the limit of capacity\n",
    "                ## the final amount of electricity you buy will be the most contrained value(minimum) out of all 3\n",
    "\n",
    "                hardcap = min(150, remaining_dispatch/0.81,remaining)\n",
    "                ## contraint list tracks all of the capacity during the timeframe\n",
    "                ## if your deals makes any element fall below 0(the capacity will overcap), the deal need to be restricted. \n",
    "                for k in range(i,index + 1):\n",
    "                    if constraint[k] <= 0:\n",
    "                        hardcap = 0\n",
    "                    elif (constraint[k] - min(150, remaining_dispatch/0.81,remaining) < 0) and constraint[k] >0:\n",
    "                        hardcap = min(hardcap, constraint[k])\n",
    "                \n",
    "                for k in range(i,index ):\n",
    "                    constraint[k] = constraint[k] - hardcap\n",
    "                        \n",
    "                remaining_dispatch = min(hardcap * 0.81,remaining * 0.81)\n",
    "                    \n",
    "                ## using the amount that you can buy, fill in the rest of the buyout using assumption from the spec\n",
    "                if remaining_dispatch >= 150 * 0.81:\n",
    "                    buyout[index][1] += 150 * 0.81\n",
    "\n",
    "                else:\n",
    "                    buyout[index][1] = min(135,buyout[index][1] + remaining_dispatch)\n",
    "                \n",
    "                buyout[i][1] = sorted_buyout[i][1] - (buyout[index][1] - sorted_buyout[index][1]) / 0.81\n",
    "\n",
    "                \n",
    "\n",
    "                remaining =  remaining - (-buyout[i][1] + sorted_buyout[i][1])\n",
    "\n",
    "\n",
    "                sorted_buyout[i][1] = buyout[i][1]\n",
    "                sorted_buyout[index][1] = buyout[index][1]\n",
    "                \n",
    "    \n",
    "            \n",
    "\n",
    "    last_buyout_index = 0\n",
    "    for i in buyout:\n",
    "        if buyout[i][1] > 0:\n",
    "            last_buyout_index = i\n",
    "            \n",
    "    return [last_buyout_index,buyout]"
   ]
  },
  {
   "cell_type": "code",
   "execution_count": 31,
   "metadata": {},
   "outputs": [],
   "source": [
    "## this version works better where there are centered local min and max in the time frame \n",
    "def compute_optimal_buyout_v2(df, index, n):\n",
    "    ## buyout refers to the dict which will be modified in the process as an output\n",
    "    df_segment = df[index: index+n]\n",
    "    buyout = {}\n",
    "    ## contrust dictionary\n",
    "    for i in range(0,len(df_segment)):\n",
    "        buyout[i] = [df_segment[i],0] \n",
    "\n",
    "    ## sort dictionary\n",
    "    temp = copy.deepcopy(buyout)\n",
    "    sorted_buyout = {}\n",
    "    sorted_buyout_max = {}\n",
    "    sorted_keys = sorted(buyout, key=buyout.get)\n",
    "    sorted_keys_rev = sorted(buyout, key=buyout.get,reverse = True)\n",
    "    for i in sorted_keys:\n",
    "        sorted_buyout[i] = temp[i]\n",
    "    for i in sorted_keys_rev:\n",
    "        sorted_buyout_max[i] = temp[i]\n",
    "    constraint = [644.4] * n\n",
    "    ## now find profitable trade deals, and lastly apply contraint\n",
    "    for i in sorted_buyout:\n",
    "        remaining = 150\n",
    "        if sorted_buyout[i][0] * 1.33 > max(df_segment):\n",
    "            break\n",
    "        for j in sorted_buyout_max:\n",
    "            if remaining <= 0:\n",
    "                break\n",
    "            if ((sorted_buyout[i][0] * 1.33 < sorted_buyout[j][0] and sorted_buyout[i][0] >= 0 and sorted_buyout[i][1] <= 0) or \\\n",
    "                (sorted_buyout[i][0] < 0 and sorted_buyout[i][0] / 1.5 < sorted_buyout[j][0] and sorted_buyout[i][1] <= 0)) and j > i:\n",
    "                index = j\n",
    "                \n",
    "                remaining_dispatch = 135 - sorted_buyout[index][1]\n",
    "                \n",
    "                ## apply contraint \n",
    "                hardcap = min(150, remaining_dispatch/0.81,remaining)\n",
    "                \n",
    "                for k in range(i,index + 1):\n",
    "                    if constraint[k] <= 0:\n",
    "                        hardcap = 0\n",
    "                    elif (constraint[k] - min(150, remaining_dispatch/0.81,remaining) < 0) and constraint[k] >0:\n",
    "                        hardcap = min(hardcap, constraint[k])\n",
    "                \n",
    "                for k in range(i,index ):\n",
    "                    constraint[k] = constraint[k] - hardcap\n",
    "                        \n",
    "                remaining_dispatch = min(hardcap * 0.81,remaining * 0.81)\n",
    "                    \n",
    "                    \n",
    "                if remaining_dispatch >= 150 * 0.81:\n",
    "                    buyout[index][1] += 150 * 0.81\n",
    "\n",
    "                else:\n",
    "                    buyout[index][1] = min(135,buyout[index][1] + remaining_dispatch)\n",
    "                \n",
    "                ##buyout[i][1] = sorted_buyout[i][1] + (buyout[index][1] - sorted_buyout[index][1]) / 0.81\n",
    "                buyout[i][1] = sorted_buyout[i][1] - (buyout[index][1] - sorted_buyout[index][1]) / 0.81\n",
    "\n",
    "                \n",
    "                ##remaining =  remaining - (buyout[i][1] - sorted_buyout[i][1])\n",
    "                remaining =  remaining - (-buyout[i][1] + sorted_buyout[i][1])\n",
    "\n",
    "                sorted_buyout[i][1] = buyout[i][1]\n",
    "                sorted_buyout[index][1] = buyout[index][1]\n",
    "\n",
    "    last_buyout_index = 0\n",
    "    for i in buyout:\n",
    "        if buyout[i][1] > 0:\n",
    "            last_buyout_index = i\n",
    "    return [last_buyout_index,buyout]"
   ]
  },
  {
   "cell_type": "code",
   "execution_count": null,
   "metadata": {},
   "outputs": [],
   "source": []
  },
  {
   "cell_type": "code",
   "execution_count": 32,
   "metadata": {},
   "outputs": [],
   "source": [
    "## using combination of all algorithm to find the best choice in the context\n",
    "## add other model you think will benefit the algorithm in this part!\n",
    "def emsemble_optimal_buyout(df, index, n):\n",
    "    model1 = compute_optimal_buyout(df, index, n)\n",
    "    model2 = compute_optimal_buyout_v2(df, index, n)\n",
    "\n",
    "    dict1 = model1[1]\n",
    "    dict2 = model2[1]\n",
    "    if compute_profit(dict1) > compute_profit(dict2):\n",
    "        return model1\n",
    "    else:\n",
    "        return model2"
   ]
  },
  {
   "cell_type": "code",
   "execution_count": 33,
   "metadata": {},
   "outputs": [],
   "source": [
    "## the main function that compute the total profit, capacity and power usage\n",
    "def main_function(df):\n",
    "    total_profit = 0\n",
    "    n = 0\n",
    "    capacity = 0\n",
    "    capacityy = []\n",
    "    power = []\n",
    "    while (n < len(df)):\n",
    "        parameter = 48 - n % 24\n",
    "        output = emsemble_optimal_buyout(df, n, min(parameter, len(df)-n))\n",
    "        ## recompute parameter if the there are price brought at the last lookout\n",
    "        ## add additional time data since there might be better buyout price\n",
    "        if output[0] == parameter - 1:\n",
    "            index = n+parameter-1\n",
    "            if index + 1 < len(df):\n",
    "                while df[index+1] > df[index] and index+1 < len(df):\n",
    "                    index += 1\n",
    "                output = emsemble_optimal_buyout(df, n, index - n + 1)\n",
    "        n += output[0] +1\n",
    "        total_profit += compute_profit(output[1])\n",
    "\n",
    "        ## compute capacity and power during the timeframe \n",
    "        for i in output[1]:\n",
    "            if output[1][i][1] < 0 and i < output[0] + 1:\n",
    "                capacity += -output[1][i][1] * 0.9\n",
    "                power.append(output[1][i][1] * 2)\n",
    "                capacityy.append(capacity)\n",
    "            elif output[1][i][1] >= 0 and i <output[0] + 1:\n",
    "                capacity = capacity - output[1][i][1] / 0.9\n",
    "                power.append(output[1][i][1] / 0.9 * 2)\n",
    "                capacityy.append(capacity)\n",
    "\n",
    "              \n",
    "              \n",
    "\n",
    "\n",
    "    return [capacityy, power,total_profit]\n",
    "    "
   ]
  },
  {
   "cell_type": "code",
   "execution_count": null,
   "metadata": {},
   "outputs": [],
   "source": []
  },
  {
   "cell_type": "code",
   "execution_count": 34,
   "metadata": {},
   "outputs": [],
   "source": [
    "## buyout will be a dict that has value [price, amount]\n",
    "def compute_profit(buyout):\n",
    "    profit = 0\n",
    "    for buy in buyout:\n",
    "        if buyout[buy][1] < 0:\n",
    "            profit += buyout[buy][0] * buyout[buy][1] /0.991\n",
    "        else:\n",
    "            profit += buyout[buy][0] * buyout[buy][1] * 0.991\n",
    "    return profit"
   ]
  },
  {
   "cell_type": "code",
   "execution_count": 35,
   "metadata": {},
   "outputs": [
    {
     "name": "stdout",
     "output_type": "stream",
     "text": [
      "CPU times: user 7.57 s, sys: 11.3 ms, total: 7.58 s\n",
      "Wall time: 7.6 s\n"
     ]
    },
    {
     "data": {
      "text/plain": [
       "126047962.70496097"
      ]
     },
     "execution_count": 35,
     "metadata": {},
     "output_type": "execute_result"
    }
   ],
   "source": [
    "%%time\n",
    "c = main_function(df_total)\n",
    "c[2]"
   ]
  },
  {
   "cell_type": "code",
   "execution_count": 36,
   "metadata": {},
   "outputs": [],
   "source": [
    "## make it so that c[1] represent the opening capacity rather than closing capacity\n",
    "c[0].insert(0,0)\n",
    "del c[0][-1]"
   ]
  },
  {
   "cell_type": "code",
   "execution_count": 37,
   "metadata": {},
   "outputs": [],
   "source": [
    "submission = pd.DataFrame()\n",
    "submission[\"datetime\"] = df[\"Time (UTC+10)\"]\n",
    "submission[\"power\"] = c[1]\n",
    "submission[\"capacity\"] = c[0]"
   ]
  },
  {
   "cell_type": "code",
   "execution_count": 38,
   "metadata": {},
   "outputs": [],
   "source": [
    "## creating the submission csv file\n",
    "submission.to_csv(\"final_submission.csv\", index = False)"
   ]
  },
  {
   "cell_type": "code",
   "execution_count": null,
   "metadata": {},
   "outputs": [],
   "source": []
  }
 ],
 "metadata": {
  "kernelspec": {
   "display_name": "Python 3",
   "language": "python",
   "name": "python3"
  },
  "language_info": {
   "codemirror_mode": {
    "name": "ipython",
    "version": 3
   },
   "file_extension": ".py",
   "mimetype": "text/x-python",
   "name": "python",
   "nbconvert_exporter": "python",
   "pygments_lexer": "ipython3",
   "version": "3.8.5"
  }
 },
 "nbformat": 4,
 "nbformat_minor": 2
}
