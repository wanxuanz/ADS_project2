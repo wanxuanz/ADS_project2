{
 "cells": [
  {
   "cell_type": "code",
   "execution_count": 1,
   "source": [
    "import pandas as pd\n",
    "import numpy as np\n",
    "import matplotlib.pyplot as plt\n",
    "import folium\n",
    "import warnings\n",
    "warnings.filterwarnings(\"ignore\")\n",
    "import geopandas as gpd\n",
    "import seaborn as sns\n",
    "import copy"
   ],
   "outputs": [],
   "metadata": {}
  },
  {
   "cell_type": "code",
   "execution_count": 2,
   "source": [
    "df = pd.read_excel (\"market_data.xlsx\")\n",
    "\n",
    "## preprocessing to get date into the correct data type\n",
    "df['Time (UTC+10)'] = pd.to_datetime(df['Time (UTC+10)'])\n",
    "df = df[[\"Time (UTC+10)\",\"Regions VIC Trading Price ($/MWh)\"]]"
   ],
   "outputs": [],
   "metadata": {}
  },
  {
   "cell_type": "code",
   "execution_count": 3,
   "source": [
    "## spliting dataset into 3 categories \n",
    "df_train = df.loc[(df[\"Time (UTC+10)\"] < \"2021-01-01 00:00:00\" )]\n",
    "df_cross = df.loc[(df[\"Time (UTC+10)\"] >= \"2021-01-01 00:00:00\" )& (df[\"Time (UTC+10)\"] < \"2021-07-01 00:00:00\" )]\n",
    "df_test = df.loc[(df[\"Time (UTC+10)\"] >= \"2021-07-01 00:00:00\" )]"
   ],
   "outputs": [],
   "metadata": {}
  },
  {
   "cell_type": "code",
   "execution_count": 4,
   "source": [
    "## convert into numpy array for the algorithm input\n",
    "df_train = df_train[\"Regions VIC Trading Price ($/MWh)\"].to_numpy()\n",
    "df_cross = df_cross[\"Regions VIC Trading Price ($/MWh)\"].to_numpy()\n",
    "df_test = df_test[\"Regions VIC Trading Price ($/MWh)\"].to_numpy()\n",
    "df_total = df[\"Regions VIC Trading Price ($/MWh)\"].to_numpy()"
   ],
   "outputs": [],
   "metadata": {}
  },
  {
   "cell_type": "code",
   "execution_count": 5,
   "source": [
    "## helper functions \n",
    "## df is the price list, index is the index of df, n is the length of the subsection of the df\n",
    "## this solution works better if there are  multiple local min or max within the time frame\n",
    "def compute_optimal_buyout(df, index, n):\n",
    "    ## buyout refers to the dict which will be modified in the process as an output\n",
    "    df_segment = df[index: index+n]\n",
    "    buyout = {}\n",
    "    ## contrust dictionary\n",
    "    for i in range(0,len(df_segment)):\n",
    "        buyout[i] = [df_segment[i],0] \n",
    "\n",
    "    ## sort dictionary\n",
    "    temp = copy.deepcopy(buyout)\n",
    "    sorted_buyout = {}\n",
    "    sorted_keys = sorted(buyout, key=buyout.get)\n",
    "    for i in sorted_keys:\n",
    "        sorted_buyout[i] = temp[i]\n",
    "    constraint = [644.4] * n\n",
    "    ## now find profitable trade deals, and lastly apply contraint\n",
    "    for i in sorted_buyout:\n",
    "        remaining = 150\n",
    "        if sorted_buyout[i][0] * 1.33 > max(df_segment):\n",
    "            break\n",
    "        ## for each min price, if you see a profitable price, do something\n",
    "        for j in range(i, n):\n",
    "            if remaining <= 0:\n",
    "                break\n",
    "            if (sorted_buyout[i][0] * 1.33 < sorted_buyout[j][0] and sorted_buyout[i][0] +20 < sorted_buyout[j][0] and sorted_buyout[i][0] >= 0 and sorted_buyout[i][1] <= 0) or \\\n",
    "                (sorted_buyout[i][0] < 0 and sorted_buyout[i][0] / 1.5 < sorted_buyout[j][0] and sorted_buyout[i][1] <= 0):\n",
    "                index = j\n",
    "                temp = j\n",
    "                ## check if near solution has a immediate better solution from the next 2 time, and repeat if there are\n",
    "                while(index< n-2):\n",
    "                    \n",
    "                    if max(sorted_buyout[index+1][0],sorted_buyout[index+2][0]) > sorted_buyout[index][0]:\n",
    "                        if  max(sorted_buyout[index+1][0],sorted_buyout[index+2][0]) == sorted_buyout[index+1][0]:\n",
    "                            temp = index + 1\n",
    "                        elif  max(sorted_buyout[index+1][0],sorted_buyout[index+2][0]) == sorted_buyout[index+2][0]:\n",
    "                            temp = index + 2\n",
    "                        index = index + 2\n",
    "                    else:\n",
    "                        break\n",
    "                ## index is time where we sell at the optimal price and now commence buyout and record it in buyout dict\n",
    "                index = temp\n",
    "\n",
    "                \n",
    "                remaining_dispatch = 135 - sorted_buyout[index][1]\n",
    "                \n",
    "                ## remain is the max amount you can buy from the buy point\n",
    "                ## remain dispatch is the max amount you can sell from the sell point\n",
    "                ## hardcap is the max amount you can buy due to the limit of capacity\n",
    "                ## the final amount of electricity you buy will be the most contrained value(minimum) out of all 3\n",
    "\n",
    "                hardcap = min(150, remaining_dispatch/0.81,remaining)\n",
    "                ## contraint list tracks all of the capacity during the timeframe\n",
    "                ## if your deals makes any element fall below 0(the capacity will overcap), the deal need to be restricted. \n",
    "                for k in range(i,index + 1):\n",
    "                    if constraint[k] <= 0:\n",
    "                        hardcap = 0\n",
    "                    elif (constraint[k] - min(150, remaining_dispatch/0.81,remaining) < 0) and constraint[k] >0:\n",
    "                        hardcap = min(hardcap, constraint[k])\n",
    "                \n",
    "                for k in range(i,index ):\n",
    "                    constraint[k] = constraint[k] - hardcap\n",
    "                        \n",
    "                remaining_dispatch = min(hardcap * 0.81,remaining * 0.81)\n",
    "                    \n",
    "                ## using the amount that you can buy, fill in the rest of the buyout using assumption from the spec\n",
    "                if remaining_dispatch >= 150 * 0.81:\n",
    "                    buyout[index][1] += 150 * 0.81\n",
    "\n",
    "                else:\n",
    "                    buyout[index][1] = min(135,buyout[index][1] + remaining_dispatch)\n",
    "                \n",
    "                buyout[i][1] = sorted_buyout[i][1] - (buyout[index][1] - sorted_buyout[index][1]) / 0.81\n",
    "\n",
    "                \n",
    "\n",
    "                remaining =  remaining - (-buyout[i][1] + sorted_buyout[i][1])\n",
    "\n",
    "\n",
    "                sorted_buyout[i][1] = buyout[i][1]\n",
    "                sorted_buyout[index][1] = buyout[index][1]\n",
    "                \n",
    "    \n",
    "            \n",
    "\n",
    "    last_buyout_index = 0\n",
    "    for i in buyout:\n",
    "        if buyout[i][1] > 0:\n",
    "            last_buyout_index = i\n",
    "            \n",
    "    return [last_buyout_index,buyout]"
   ],
   "outputs": [],
   "metadata": {}
  },
  {
   "cell_type": "code",
   "execution_count": 6,
   "source": [
    "## this version works better where there are centered local min and max in the time frame \n",
    "def compute_optimal_buyout_v2(df, index, n):\n",
    "    ## buyout refers to the dict which will be modified in the process as an output\n",
    "    df_segment = df[index: index+n]\n",
    "    buyout = {}\n",
    "    ## contrust dictionary\n",
    "    for i in range(0,len(df_segment)):\n",
    "        buyout[i] = [df_segment[i],0] \n",
    "\n",
    "    ## sort dictionary\n",
    "    temp = copy.deepcopy(buyout)\n",
    "    sorted_buyout = {}\n",
    "    sorted_buyout_max = {}\n",
    "    sorted_keys = sorted(buyout, key=buyout.get)\n",
    "    sorted_keys_rev = sorted(buyout, key=buyout.get,reverse = True)\n",
    "    for i in sorted_keys:\n",
    "        sorted_buyout[i] = temp[i]\n",
    "    for i in sorted_keys_rev:\n",
    "        sorted_buyout_max[i] = temp[i]\n",
    "    constraint = [644.4] * n\n",
    "    ## now find profitable trade deals, and lastly apply contraint\n",
    "    for i in sorted_buyout:\n",
    "        remaining = 150\n",
    "        if sorted_buyout[i][0] * 1.33 > max(df_segment):\n",
    "            break\n",
    "        for j in sorted_buyout_max:\n",
    "            if remaining <= 0:\n",
    "                break\n",
    "            if ((sorted_buyout[i][0] * 1.33 < sorted_buyout[j][0] and sorted_buyout[i][0] >= 0 and sorted_buyout[i][1] <= 0) or \\\n",
    "                (sorted_buyout[i][0] < 0 and sorted_buyout[i][0] / 1.5 < sorted_buyout[j][0] and sorted_buyout[i][1] <= 0)) and j > i:\n",
    "                index = j\n",
    "                \n",
    "                remaining_dispatch = 135 - sorted_buyout[index][1]\n",
    "                \n",
    "                ## apply contraint \n",
    "                hardcap = min(150, remaining_dispatch/0.81,remaining)\n",
    "                \n",
    "                for k in range(i,index + 1):\n",
    "                    if constraint[k] <= 0:\n",
    "                        hardcap = 0\n",
    "                    elif (constraint[k] - min(150, remaining_dispatch/0.81,remaining) < 0) and constraint[k] >0:\n",
    "                        hardcap = min(hardcap, constraint[k])\n",
    "                \n",
    "                for k in range(i,index ):\n",
    "                    constraint[k] = constraint[k] - hardcap\n",
    "                        \n",
    "                remaining_dispatch = min(hardcap * 0.81,remaining * 0.81)\n",
    "                    \n",
    "                    \n",
    "                if remaining_dispatch >= 150 * 0.81:\n",
    "                    buyout[index][1] += 150 * 0.81\n",
    "\n",
    "                else:\n",
    "                    buyout[index][1] = min(135,buyout[index][1] + remaining_dispatch)\n",
    "                \n",
    "                ##buyout[i][1] = sorted_buyout[i][1] + (buyout[index][1] - sorted_buyout[index][1]) / 0.81\n",
    "                buyout[i][1] = sorted_buyout[i][1] - (buyout[index][1] - sorted_buyout[index][1]) / 0.81\n",
    "\n",
    "                \n",
    "                ##remaining =  remaining - (buyout[i][1] - sorted_buyout[i][1])\n",
    "                remaining =  remaining - (-buyout[i][1] + sorted_buyout[i][1])\n",
    "\n",
    "                sorted_buyout[i][1] = buyout[i][1]\n",
    "                sorted_buyout[index][1] = buyout[index][1]\n",
    "\n",
    "    last_buyout_index = 0\n",
    "    for i in buyout:\n",
    "        if buyout[i][1] > 0:\n",
    "            last_buyout_index = i\n",
    "    return [last_buyout_index,buyout]"
   ],
   "outputs": [],
   "metadata": {}
  },
  {
   "cell_type": "code",
   "execution_count": 7,
   "source": [
    "## using combination of all algorithm to find the best choice in the context\n",
    "## add other model you think will benefit the algorithm in this part!\n",
    "def emsemble_optimal_buyout(df, index, n):\n",
    "    model1 = compute_optimal_buyout(df, index, n)\n",
    "    model2 = compute_optimal_buyout_v2(df, index, n)\n",
    "\n",
    "    dict1 = model1[1]\n",
    "    dict2 = model2[1]\n",
    "    if compute_profit(dict1) > compute_profit(dict2):\n",
    "        return model1\n",
    "    else:\n",
    "        return model2"
   ],
   "outputs": [],
   "metadata": {}
  },
  {
   "cell_type": "code",
   "execution_count": 8,
   "source": [
    "## the main function that compute the total profit, capacity and power usage\n",
    "def main_function(df):\n",
    "    total_profit = 0\n",
    "    n = 0\n",
    "    capacity = 0\n",
    "    capacityy = []\n",
    "    power = []\n",
    "    while (n < len(df)):\n",
    "        parameter = 48 - n % 24\n",
    "        output = emsemble_optimal_buyout(df, n, min(parameter, len(df)-n))\n",
    "        ## recompute parameter if the there are price brought at the last lookout\n",
    "        \n",
    "        if output[0] == parameter - 1:\n",
    "            index = n+parameter-1\n",
    "            if index + 1 < len(df):\n",
    "                while df[index+1] > df[index] and index+1 < len(df):\n",
    "                    index += 1\n",
    "                output = emsemble_optimal_buyout(df, n, index - n + 1)\n",
    "        n += output[0] +1\n",
    "        total_profit += compute_profit(output[1])\n",
    "\n",
    "        ## compute capacity and power during the timeframe \n",
    "        for i in output[1]:\n",
    "            if output[1][i][1] < 0 and i < output[0] + 1:\n",
    "                capacity += -output[1][i][1] * 0.9\n",
    "                power.append(output[1][i][1] * 2)\n",
    "                capacityy.append(capacity)\n",
    "            elif output[1][i][1] >= 0 and i <output[0] + 1:\n",
    "                capacity = capacity - output[1][i][1] / 0.9\n",
    "                power.append(output[1][i][1] / 0.9 * 2)\n",
    "                capacityy.append(capacity)\n",
    "\n",
    "              \n",
    "              \n",
    "\n",
    "\n",
    "    return [capacityy, power,total_profit]"
   ],
   "outputs": [],
   "metadata": {}
  },
  {
   "cell_type": "code",
   "execution_count": 9,
   "source": [
    "## buyout will be a dict that has value [price, amount]\n",
    "def compute_profit(buyout):\n",
    "    profit = 0\n",
    "    for buy in buyout:\n",
    "        if buyout[buy][1] < 0:\n",
    "            profit += buyout[buy][0] * buyout[buy][1] /0.991\n",
    "        else:\n",
    "            profit += buyout[buy][0] * buyout[buy][1] * 0.991\n",
    "    return profit"
   ],
   "outputs": [],
   "metadata": {}
  },
  {
   "cell_type": "code",
   "execution_count": 10,
   "source": [
    "c = main_function(df_total)\n",
    "total_df_revenue=c[2]"
   ],
   "outputs": [],
   "metadata": {}
  },
  {
   "cell_type": "code",
   "execution_count": 11,
   "source": [
    "total_df_revenue"
   ],
   "outputs": [
    {
     "output_type": "execute_result",
     "data": {
      "text/plain": [
       "126047962.70496097"
      ]
     },
     "metadata": {},
     "execution_count": 11
    }
   ],
   "metadata": {}
  },
  {
   "cell_type": "code",
   "execution_count": 12,
   "source": [
    "submission = pd.DataFrame(df[\"Time (UTC+10)\"])\n",
    "submission[\"power\"] = c[1]\n",
    "submission[\"capacity\"] = c[0]"
   ],
   "outputs": [],
   "metadata": {}
  },
  {
   "cell_type": "code",
   "execution_count": 13,
   "source": [
    "## creating the submission csv file\n",
    "submission.to_csv(\"sample_submission.csv\")"
   ],
   "outputs": [],
   "metadata": {}
  },
  {
   "cell_type": "code",
   "execution_count": 14,
   "source": [
    "# return the max profit of a period\n",
    "def emsemble_optimal_profit(df, index, n):\n",
    "    model1 = compute_optimal_buyout(df, index, n)\n",
    "    model2 = compute_optimal_buyout_v2(df, index, n)\n",
    "    dict1 = model1[1]\n",
    "    dict2 = model2[1]\n",
    "    if compute_profit(dict1) > compute_profit(dict2):\n",
    "        return compute_profit(dict1)\n",
    "    else:\n",
    "        return compute_profit(dict2)"
   ],
   "outputs": [],
   "metadata": {}
  },
  {
   "cell_type": "code",
   "execution_count": 15,
   "source": [
    "#sampled period data\n",
    "visualization_data_set=df.loc[(df[\"Time (UTC+10)\"] >= \"2018-01-01 00:30:00\" )& (df[\"Time (UTC+10)\"] <= \"2021-07-01 00:00:00\" )]\n",
    "\n",
    "#sampled period price\n",
    "visualization_price=visualization_data_set[\"Regions VIC Trading Price ($/MWh)\"].to_numpy()\n",
    "\n",
    "#sampled period date\n",
    "visualization_date=visualization_data_set.drop('Regions VIC Trading Price ($/MWh)', 1)\n"
   ],
   "outputs": [],
   "metadata": {}
  },
  {
   "cell_type": "code",
   "execution_count": 16,
   "source": [
    "# the total revenue for the test period\n",
    "test_period_revenue=main_function(df_test)[2]\n",
    "test_period_revenue"
   ],
   "outputs": [
    {
     "output_type": "execute_result",
     "data": {
      "text/plain": [
       "5890036.217189903"
      ]
     },
     "metadata": {},
     "execution_count": 16
    }
   ],
   "metadata": {}
  },
  {
   "cell_type": "code",
   "execution_count": 17,
   "source": [
    "# the total revenue for the sampled period\n",
    "sample_period_revenue = total_df_revenue - test_period_revenue\n",
    "sample_period_revenue"
   ],
   "outputs": [
    {
     "output_type": "execute_result",
     "data": {
      "text/plain": [
       "120157926.48777106"
      ]
     },
     "metadata": {},
     "execution_count": 17
    }
   ],
   "metadata": {}
  },
  {
   "cell_type": "code",
   "execution_count": 18,
   "source": [
    "#compare different algorithm in the sampled period\n",
    "algorithm_list=[\"Algorithm 1\",\"Algorithm 2\",\"Algorithm 3\",\"Our algorithm\"]\n",
    "profit_list=[31546007,63441713,112484633,round(sample_period_revenue)]\n",
    "\n",
    "#Use bar plot to show total revenue calculated by each algorithm\n",
    "fig = plt.figure()\n",
    "f, ax = plt.subplots(figsize=(6,6))\n",
    "ax.bar(algorithm_list,profit_list,color='orange',width = 0.35)\n",
    "plt.plot(algorithm_list,profit_list, '-', color='blue')\n",
    "ax.legend(labels=[\"total revenue trend line\",\"total revenue\"],prop={'size': 10})\n",
    "ax.set(facecolor=\"#F1EEDE\")\n",
    "\n",
    "#add revenue value above each bar\n",
    "for i, v in enumerate(profit_list):\n",
    "   plt.text(i-0.3, v + 0.5, str(v))\n",
    "\n",
    "plt.tight_layout()\n",
    "plt.title('Total revenue calculated by each algorithm')\n",
    "#ax.axes.xaxis.set_visible(False)\n",
    "#ax.axes.yaxis.set_visible(False)\n",
    "plt.xlabel('Algorithm')\n",
    "plt.ylabel('Total revenue')  \n",
    "\n",
    "#plt.savefig('../ADS_Project2/total revenue per algorithm.png')\n",
    "plt.show()"
   ],
   "outputs": [
    {
     "output_type": "display_data",
     "data": {
      "text/plain": [
       "<Figure size 432x288 with 0 Axes>"
      ]
     },
     "metadata": {}
    },
    {
     "output_type": "display_data",
     "data": {
      "image/png": "[encoded data removed]",
      "text/plain": [
       "<Figure size 432x432 with 1 Axes>"
      ]
     },
     "metadata": {
      "needs_background": "light"
     }
    }
   ],
   "metadata": {}
  },
  {
   "cell_type": "code",
   "execution_count": 19,
   "source": [
    "## spliting dataset into 4 categories by years\n",
    "\n",
    "df_2018= df.loc[(df[\"Time (UTC+10)\"] > \"2018-01-01 00:00:00\" ) & (df[\"Time (UTC+10)\"] <=\"2019-01-01 00:00:00\" )]\n",
    "df_2019= df.loc[(df[\"Time (UTC+10)\"] > \"2019-01-01 00:00:00\" ) & (df[\"Time (UTC+10)\"] <=\"2020-01-01 00:00:00\" )]\n",
    "df_2020= df.loc[(df[\"Time (UTC+10)\"] > \"2020-01-01 00:00:00\" ) & (df[\"Time (UTC+10)\"] <=\"2021-01-01 00:00:00\" )]\n",
    "df_2021= df.loc[(df[\"Time (UTC+10)\"] > \"2021-01-01 00:00:00\" ) & (df[\"Time (UTC+10)\"] <=\"2021-07-01 00:00:00\" )]\n",
    "\n",
    "df_2018_price = df_2018[\"Regions VIC Trading Price ($/MWh)\"].to_numpy()\n",
    "df_2019_price = df_2019[\"Regions VIC Trading Price ($/MWh)\"].to_numpy()\n",
    "df_2020_price = df_2020[\"Regions VIC Trading Price ($/MWh)\"].to_numpy()\n",
    "df_2021_price = df_2021[\"Regions VIC Trading Price ($/MWh)\"].to_numpy()\n",
    "\n",
    "#calculate revenue per year\n",
    "profit_2018=0\n",
    "k=0\n",
    "for j in range(int(len(df_2018_price)/48)):\n",
    "    profit_2018+=emsemble_optimal_profit(df_2018_price[k:k+48],0,48)\n",
    "    k=k+48\n",
    "\n",
    "profit_2019=0\n",
    "k=0\n",
    "for j in range(int(len(df_2019_price)/48)):\n",
    "    profit_2019+=emsemble_optimal_profit(df_2019_price[k:k+48],0,48)\n",
    "    k=k+48\n",
    "\n",
    "profit_2020=0\n",
    "k=0\n",
    "for j in range(int(len(df_2020_price)/48)):\n",
    "    profit_2020+=emsemble_optimal_profit(df_2020_price[k:k+48],0,48)\n",
    "    k=k+48\n",
    "\n",
    "profit_2021=0\n",
    "k=0\n",
    "for j in range(int(len(df_2021_price)/48)):\n",
    "    profit_2021+=emsemble_optimal_profit(df_2021_price[k:k+48],0,48)\n",
    "    k=k+48"
   ],
   "outputs": [],
   "metadata": {}
  },
  {
   "cell_type": "code",
   "execution_count": 20,
   "source": [
    "#each year's profit list\n",
    "profit_2018_list=[10796131,11540098,28558213,round(profit_2018)]\n",
    "profit_2019_list=[7862888,21103992,39986807,round(profit_2019)]\n",
    "profit_2020_list=[4958375,18950764,27741739,round(profit_2020)]\n",
    "profit_2021_list=[7928613,11846859,16197874,round(profit_2021)]\n",
    "\n",
    "# Declaring the figure or the plot (y, x) or (width, height)\n",
    "f, ax = plt.subplots(figsize=(15,10))\n",
    "X = np.arange(len(profit_2018_list))\n",
    "\n",
    "# Passing the parameters to the bar function, this is the main function which creates the bar plot\n",
    "# Using X now to align the bars side by side\n",
    "width=5\n",
    "plt.bar(X + 0.1, profit_2018_list, color = 'orange', width = 0.1)\n",
    "plt.bar(X + 0.2, profit_2019_list, color = 'g', width = 0.1)\n",
    "plt.bar(X + 0.3, profit_2020_list, color = 'b', width = 0.1)\n",
    "plt.bar(X + 0.4, profit_2021_list, color = 'r', width = 0.1)\n",
    "plt.plot(X + 0.1,profit_2018_list, '-', color='orange')\n",
    "plt.plot(X + 0.2,profit_2019_list, '-', color='g')\n",
    "plt.plot(X + 0.3,profit_2020_list, '-', color='b')\n",
    "plt.plot(X + 0.4,profit_2021_list, '-', color='r')\n",
    "\n",
    "# Creating the legend of the bars in the plot\n",
    "plt.legend(['2018 revenue trend line', '2019 revenue trend line', '2020 revenue trend line','2021 revenue trend line',\n",
    "            '2018 revenue', '2019 revenue', '2020 revenue','2021 revenue'])\n",
    "\n",
    "plt.xticks([i + 0.25 for i in range(4)], ['Algorithm1', 'Algorithm2', 'Algorithm3', 'Our_algorithm'])\n",
    "\n",
    "plt.title(\"Bar plot representing each algorithm's total revenue per year\")\n",
    "ax.set(facecolor=\"#F1EEDE\")\n",
    "\n",
    "plt.xlabel('Algorithm')\n",
    "plt.ylabel('Total revenue')\n",
    "#ax.axes.xaxis.set_visible(False)\n",
    "#ax.axes.yaxis.set_visible(False)\n",
    "\n",
    "# Saving the plot as a 'png'\n",
    "# plt.savefig(\"each algorithm's total revenue per year.png\")\n",
    "\n",
    "# Displaying the bar plot\n",
    "plt.show()"
   ],
   "outputs": [
    {
     "output_type": "display_data",
     "data": {
      "image/png": "[encoded data removed]",
      "text/plain": [
       "<Figure size 1080x720 with 1 Axes>"
      ]
     },
     "metadata": {
      "needs_background": "light"
     }
    }
   ],
   "metadata": {}
  }
 ],
 "metadata": {
  "orig_nbformat": 4,
  "language_info": {
   "name": "python",
   "version": "3.8.5",
   "mimetype": "text/x-python",
   "codemirror_mode": {
    "name": "ipython",
    "version": 3
   },
   "pygments_lexer": "ipython3",
   "nbconvert_exporter": "python",
   "file_extension": ".py"
  },
  "kernelspec": {
   "name": "python3",
   "display_name": "Python 3.8.5 64-bit ('base': conda)"
  },
  "interpreter": {
   "hash": "dca0ade3e726a953b501b15e8e990130d2b7799f14cfd9f4271676035ebe5511"
  }
 },
 "nbformat": 4,
 "nbformat_minor": 2
}